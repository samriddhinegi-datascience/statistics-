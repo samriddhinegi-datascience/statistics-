{
 "cells": [
  {
   "cell_type": "code",
   "execution_count": 1,
   "id": "f65ba665-0822-4adf-9c93-c4641d31365d",
   "metadata": {},
   "outputs": [],
   "source": [
    "import pandas as pd\n",
    "import numpy as np"
   ]
  },
  {
   "cell_type": "code",
   "execution_count": 2,
   "id": "b15e2b99-c1d3-498c-a6d8-aa8e0e5cd5f8",
   "metadata": {},
   "outputs": [
    {
     "data": {
      "text/html": [
       "<div>\n",
       "<style scoped>\n",
       "    .dataframe tbody tr th:only-of-type {\n",
       "        vertical-align: middle;\n",
       "    }\n",
       "\n",
       "    .dataframe tbody tr th {\n",
       "        vertical-align: top;\n",
       "    }\n",
       "\n",
       "    .dataframe thead th {\n",
       "        text-align: right;\n",
       "    }\n",
       "</style>\n",
       "<table border=\"1\" class=\"dataframe\">\n",
       "  <thead>\n",
       "    <tr style=\"text-align: right;\">\n",
       "      <th></th>\n",
       "      <th>sepal_length</th>\n",
       "      <th>sepal_width</th>\n",
       "      <th>petal_length</th>\n",
       "      <th>petal_width</th>\n",
       "      <th>species</th>\n",
       "    </tr>\n",
       "  </thead>\n",
       "  <tbody>\n",
       "    <tr>\n",
       "      <th>0</th>\n",
       "      <td>5.1</td>\n",
       "      <td>3.5</td>\n",
       "      <td>1.4</td>\n",
       "      <td>0.2</td>\n",
       "      <td>Iris-setosa</td>\n",
       "    </tr>\n",
       "    <tr>\n",
       "      <th>1</th>\n",
       "      <td>4.9</td>\n",
       "      <td>3.0</td>\n",
       "      <td>1.4</td>\n",
       "      <td>0.2</td>\n",
       "      <td>Iris-setosa</td>\n",
       "    </tr>\n",
       "    <tr>\n",
       "      <th>2</th>\n",
       "      <td>4.7</td>\n",
       "      <td>3.2</td>\n",
       "      <td>1.3</td>\n",
       "      <td>0.2</td>\n",
       "      <td>Iris-setosa</td>\n",
       "    </tr>\n",
       "    <tr>\n",
       "      <th>3</th>\n",
       "      <td>4.6</td>\n",
       "      <td>3.1</td>\n",
       "      <td>1.5</td>\n",
       "      <td>0.2</td>\n",
       "      <td>Iris-setosa</td>\n",
       "    </tr>\n",
       "    <tr>\n",
       "      <th>4</th>\n",
       "      <td>5.0</td>\n",
       "      <td>3.6</td>\n",
       "      <td>1.4</td>\n",
       "      <td>0.2</td>\n",
       "      <td>Iris-setosa</td>\n",
       "    </tr>\n",
       "    <tr>\n",
       "      <th>...</th>\n",
       "      <td>...</td>\n",
       "      <td>...</td>\n",
       "      <td>...</td>\n",
       "      <td>...</td>\n",
       "      <td>...</td>\n",
       "    </tr>\n",
       "    <tr>\n",
       "      <th>145</th>\n",
       "      <td>6.7</td>\n",
       "      <td>3.0</td>\n",
       "      <td>5.2</td>\n",
       "      <td>2.3</td>\n",
       "      <td>Iris-virginica</td>\n",
       "    </tr>\n",
       "    <tr>\n",
       "      <th>146</th>\n",
       "      <td>6.3</td>\n",
       "      <td>2.5</td>\n",
       "      <td>5.0</td>\n",
       "      <td>1.9</td>\n",
       "      <td>Iris-virginica</td>\n",
       "    </tr>\n",
       "    <tr>\n",
       "      <th>147</th>\n",
       "      <td>6.5</td>\n",
       "      <td>3.0</td>\n",
       "      <td>5.2</td>\n",
       "      <td>2.0</td>\n",
       "      <td>Iris-virginica</td>\n",
       "    </tr>\n",
       "    <tr>\n",
       "      <th>148</th>\n",
       "      <td>6.2</td>\n",
       "      <td>3.4</td>\n",
       "      <td>5.4</td>\n",
       "      <td>2.3</td>\n",
       "      <td>Iris-virginica</td>\n",
       "    </tr>\n",
       "    <tr>\n",
       "      <th>149</th>\n",
       "      <td>5.9</td>\n",
       "      <td>3.0</td>\n",
       "      <td>5.1</td>\n",
       "      <td>1.8</td>\n",
       "      <td>Iris-virginica</td>\n",
       "    </tr>\n",
       "  </tbody>\n",
       "</table>\n",
       "<p>150 rows × 5 columns</p>\n",
       "</div>"
      ],
      "text/plain": [
       "     sepal_length  sepal_width  petal_length  petal_width         species\n",
       "0             5.1          3.5           1.4          0.2     Iris-setosa\n",
       "1             4.9          3.0           1.4          0.2     Iris-setosa\n",
       "2             4.7          3.2           1.3          0.2     Iris-setosa\n",
       "3             4.6          3.1           1.5          0.2     Iris-setosa\n",
       "4             5.0          3.6           1.4          0.2     Iris-setosa\n",
       "..            ...          ...           ...          ...             ...\n",
       "145           6.7          3.0           5.2          2.3  Iris-virginica\n",
       "146           6.3          2.5           5.0          1.9  Iris-virginica\n",
       "147           6.5          3.0           5.2          2.0  Iris-virginica\n",
       "148           6.2          3.4           5.4          2.3  Iris-virginica\n",
       "149           5.9          3.0           5.1          1.8  Iris-virginica\n",
       "\n",
       "[150 rows x 5 columns]"
      ]
     },
     "execution_count": 2,
     "metadata": {},
     "output_type": "execute_result"
    }
   ],
   "source": [
    "df=pd.read_csv('IRIS.csv')\n",
    "df"
   ]
  },
  {
   "cell_type": "code",
   "execution_count": 3,
   "id": "1664bc16-a888-44cf-a456-8e0b90110db6",
   "metadata": {},
   "outputs": [],
   "source": [
    "#Q1 Without directly calculating the mean, determine which sepal measurement (sepal_length or sepal_width) has a higher average by observing the dataset.\n",
    "#ANS sepal_length has a higher avg than sepal_width as the values of each observation of sepal_length is greater than values of sepal_width. "
   ]
  },
  {
   "cell_type": "code",
   "execution_count": 11,
   "id": "bc0a88a4-890b-41a2-82cf-e8848cba0cf7",
   "metadata": {},
   "outputs": [
    {
     "name": "stdout",
     "output_type": "stream",
     "text": [
      "5.9\n",
      "2.4\n"
     ]
    }
   ],
   "source": [
    "#Q2 Compare the variability of petal measurements by checking the difference between the ranges of petal_length and petal_width. Which feature shows more spread?\n",
    "p_len= df['petal_length'].max()-df['petal_length'].min() \n",
    "p_width=df['petal_width'].max()-df['petal_width'].min()\n",
    "print(p_len)\n",
    "print(p_width)\n",
    "#since petal_length has a higher range than petal_width, it shows more spread."
   ]
  },
  {
   "cell_type": "code",
   "execution_count": 15,
   "id": "3b7f1f4e-0cbd-4510-a255-13ff33e713c2",
   "metadata": {},
   "outputs": [
    {
     "name": "stdout",
     "output_type": "stream",
     "text": [
      "1.3000000000000007\n",
      "0.5\n"
     ]
    }
   ],
   "source": [
    "#Q3 Identify which feature, sepal_length or sepal_width, has a higher interquartile range (IQR), indicating greater variability in the middle 50% of the data.\n",
    "iqr_len= df['sepal_length'].quantile(0.75)-df['sepal_length'].quantile(0.25)\n",
    "print(iqr_len)\n",
    "iqr_width=df['sepal_width'].quantile(0.75)-df['sepal_width'].quantile(0.25)\n",
    "print(iqr_width)\n",
    "#iqr of sepal_length is greater than sepal_width. "
   ]
  },
  {
   "cell_type": "code",
   "execution_count": 27,
   "id": "130fa47d-5a92-4e73-aa59-384731bfcc4d",
   "metadata": {},
   "outputs": [
    {
     "name": "stdout",
     "output_type": "stream",
     "text": [
      "0.8280661279778629\n",
      "0.4335943113621737\n"
     ]
    }
   ],
   "source": [
    "#Q4 Based on the computed standard deviations of sepal_length and sepal_width, determine which attribute exhibits more variability and discuss what this indicates about the consistency of the two features.\n",
    "sd_l= df['sepal_length'].std()\n",
    "print(sd_l)\n",
    "sd_w= df['sepal_width'].std()\n",
    "print(sd_w)\n",
    "#sepal_length has more variability than sepal_width this means the values of sepal_length are more spread out from the mean and values of sepal_width are clustered around the mean. Low standard deviation means more consistency in the data. So sepal_width has more consistency than sepal_length.\n"
   ]
  },
  {
   "cell_type": "code",
   "execution_count": 39,
   "id": "daa4c1ed-3ae2-4d2a-b49f-818a0dce67f4",
   "metadata": {},
   "outputs": [
    {
     "name": "stdout",
     "output_type": "stream",
     "text": [
      "3.758666666666666\n",
      "4.35\n",
      "0    1.5\n",
      "Name: petal_length, dtype: float64\n"
     ]
    }
   ],
   "source": [
    "#Q5 Without plotting, assess whether the petal_length distribution is skewed. Use a descriptive statistic that measures skewness and infer the distribution shape.\n",
    "#ANS for positive skewness mean and median should be greater than mode and for negative skewness mean and median should be less than mode.\n",
    "mean=df['petal_length'].mean()\n",
    "print(mean)\n",
    "median=df['petal_length'].median()\n",
    "print(median)\n",
    "mode=df['petal_length'].mode()\n",
    "print(mode)\n",
    "#its a positive skewness. The tail on the right side is longer or fatter. "
   ]
  },
  {
   "cell_type": "code",
   "execution_count": 43,
   "id": "bc736124-b2c4-45b9-af6a-9f96aa94ab0a",
   "metadata": {},
   "outputs": [
    {
     "name": "stdout",
     "output_type": "stream",
     "text": [
      "0.3149109566369728\n",
      "0.3340526621720866\n"
     ]
    }
   ],
   "source": [
    "#Q6 For which attribute, sepal_length or sepal_width, is the skewness closer to zero? What does this imply about the symmetry of its distribution?\n",
    "skew_l=df['sepal_length'].skew()\n",
    "skew_w=df['sepal_width'].skew()\n",
    "print(skew_l)\n",
    "print(skew_w)\n",
    "#skewness of sepal_width is closer to zero. This shows it is more symmetrical. "
   ]
  },
  {
   "cell_type": "code",
   "execution_count": 45,
   "id": "21be8a87-be36-4e60-a735-d70d0a3800bd",
   "metadata": {},
   "outputs": [
    {
     "name": "stdout",
     "output_type": "stream",
     "text": [
      "46.942721353820374\n",
      "14.171125977944033\n"
     ]
    }
   ],
   "source": [
    "#Q7 Calculate the coefficient of variation (CV) for sepal_length and petal_length. Which feature has greater relative variability, and what does this tell you about the dataset?\n",
    "sd_pl= df['petal_length'].std()\n",
    "mean_pl=df['petal_length'].mean()\n",
    "sd_sl=df['sepal_length'].std()\n",
    "mean_sl=df['sepal_length'].mean()\n",
    "cv_pl= sd_pl/mean_pl*100\n",
    "cv_sl= sd_sl/mean_sl*100\n",
    "print(cv_pl)\n",
    "print(cv_sl)\n",
    "#ANS Petal length has more variability as compared to sepal length. This tells us that the data is more consistent, more stable and more uniform.    "
   ]
  },
  {
   "cell_type": "code",
   "execution_count": 57,
   "id": "cff1fe9a-729a-475c-93fd-f44b3485bc98",
   "metadata": {},
   "outputs": [
    {
     "name": "stdout",
     "output_type": "stream",
     "text": [
      "outlier rows:\n",
      "Empty DataFrame\n",
      "Columns: [sepal_length, sepal_width, petal_length, petal_width, species]\n",
      "Index: []\n"
     ]
    }
   ],
   "source": [
    "#Q8 Identify the outliers in the sepal_length feature using the IQR method (define outliers as values that fall below Q1 - 1.5 * IQR or above Q3 + 1.5 * IQR). How many outliers are present?\n",
    "q1=df['sepal_length'].quantile(0.25)\n",
    "q3=df['sepal_length'].quantile(0.75)\n",
    "iqr=q3-q1\n",
    "\n",
    "lower_bound=q1-1.5*iqr\n",
    "upper_bound=q3+1.5*iqr\n",
    "\n",
    "outliers=df[(df['sepal_length']<lower_bound) |\n",
    "                (df['sepal_length']>upper_bound)]\n",
    "print(\"outlier rows:\")\n",
    "print(outliers)"
   ]
  },
  {
   "cell_type": "code",
   "execution_count": null,
   "id": "f5ad39ab-dfe0-4cfa-98cd-46c5059859ce",
   "metadata": {},
   "outputs": [],
   "source": []
  }
 ],
 "metadata": {
  "kernelspec": {
   "display_name": "Python 3 (ipykernel)",
   "language": "python",
   "name": "python3"
  },
  "language_info": {
   "codemirror_mode": {
    "name": "ipython",
    "version": 3
   },
   "file_extension": ".py",
   "mimetype": "text/x-python",
   "name": "python",
   "nbconvert_exporter": "python",
   "pygments_lexer": "ipython3",
   "version": "3.12.4"
  }
 },
 "nbformat": 4,
 "nbformat_minor": 5
}
